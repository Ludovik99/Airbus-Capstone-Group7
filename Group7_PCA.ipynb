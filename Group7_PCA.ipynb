{
  "nbformat": 4,
  "nbformat_minor": 0,
  "metadata": {
    "colab": {
      "provenance": []
    },
    "kernelspec": {
      "name": "python3",
      "display_name": "Python 3"
    },
    "language_info": {
      "name": "python"
    }
  },
  "cells": [
    {
      "cell_type": "code",
      "execution_count": null,
      "metadata": {
        "colab": {
          "base_uri": "https://localhost:8080/"
        },
        "id": "c434d74a-c072-4cb1-94bd-fc73ca38622e",
        "outputId": "86435752-23b1-4402-d4b8-4879f64625b8"
      },
      "outputs": [
        {
          "output_type": "stream",
          "name": "stdout",
          "text": [
            "Mounted at /content/drive\n"
          ]
        }
      ],
      "source": [
        "import pandas as pd\n",
        "import numpy as np\n",
        "from sklearn.preprocessing import RobustScaler\n",
        "from sklearn.decomposition import PCA\n",
        "import matplotlib.pyplot as plt\n",
        "import seaborn as sns\n",
        "from google.colab import drive\n",
        "drive.mount('/content/drive')"
      ]
    },
    {
      "cell_type": "code",
      "execution_count": null,
      "metadata": {
        "id": "92ac51eb-d131-4429-9c42-87ead8f9a951"
      },
      "outputs": [],
      "source": [
        "data = pd.read_csv('/content/drive/Shareddrives/Capstone AIRBUS/Data/msn_37_fuel_leak_signals_preprocessed.csv', delimiter=';')"
      ]
    },
    {
      "cell_type": "markdown",
      "source": [
        "###**Conditional preprocessing**\n",
        "####Depending on the dataset which is loaded, different preprocessing pipelines are applied. Overall, useless columns are dropped, together with the data referring to Pre-Flight, Engine Run and Post-Flight phases and remaining missing rows are dropped. For dataset 'msn02', a further missing values imputation is performed.\n",
        "#### The derivatives of the numerical columns are computed and the values are scaled using RobustSclaler, to make them feasible for a PCA analysis and preserve the outliers' magnitude.\n"
      ],
      "metadata": {
        "id": "9wsRHhjxlncZ"
      }
    },
    {
      "cell_type": "code",
      "source": [
        "if data.shape[1] == 111:\n",
        "    # Apply a reduced preprocessing pipeline for the 'msn02' dataset\n",
        "    pca_data1 = data.drop(data[(data[\"FLIGHT_PHASE_COUNT\"] == 1) | (data[\"FLIGHT_PHASE_COUNT\"] == 2) | (data[\"FLIGHT_PHASE_COUNT\"] == 12)].index)\n",
        "    pca_data1.drop(['UTC_TIME','MSN','Flight','day','month','time','year','FUEL_USED_1','FUEL_USED_2','FUEL_USED_3','FUEL_USED_4'], axis=1, inplace=True)\n",
        "    column_means = pca_data1.mean()\n",
        "    pca_data1 = pca_data1.fillna(column_means)\n",
        "    pca_data1.dropna(inplace=True)\n",
        "    print(f'Number of deleted rows: {len(data)-len(pca_data1)}, leaving a working dataset of {len(pca_data1)} rows.')\n",
        "else:\n",
        "    # Apply the preprocessing pipeline for other datasets\n",
        "    pca_data1 = data.drop(data[(data[\"FLIGHT_PHASE_COUNT\"] == 1) | (data[\"FLIGHT_PHASE_COUNT\"] == 2) | (data[\"FLIGHT_PHASE_COUNT\"] == 12)].index)\n",
        "    pca_data1.drop(['UTC_TIME','MSN','Flight','FUEL_USED_1','FUEL_USED_2','FUEL_USED_3','FUEL_USED_4', 'FLIGHT_PHASE_COUNT'], axis=1, inplace=True)\n",
        "    columns_to_scale = pca_data1.columns\n",
        "    for column in columns_to_scale:\n",
        "        pca_data1[column] = pca_data1[column].diff()\n",
        "    pca_data1.dropna(inplace=True)\n",
        "    scaler = RobustScaler()\n",
        "    scaled_data = scaler.fit_transform(pca_data1[columns_to_scale])\n",
        "    pca_data1[columns_to_scale] = scaled_data\n",
        "    print(f'Number of deleted rows: {len(data)-len(pca_data1)}, leaving a working dataset of {len(pca_data1)} rows.')"
      ],
      "metadata": {
        "colab": {
          "base_uri": "https://localhost:8080/"
        },
        "id": "2KIgaD_HkNlL",
        "outputId": "615784c1-551a-4e0d-db9f-bffba639ef9f"
      },
      "execution_count": null,
      "outputs": [
        {
          "output_type": "stream",
          "name": "stdout",
          "text": [
            "Number of deleted rows: 392346, leaving a working dataset of 2844299 rows.\n"
          ]
        }
      ]
    },
    {
      "cell_type": "markdown",
      "source": [
        "Number of flights in the dataset:"
      ],
      "metadata": {
        "id": "KOR7V2YgLzwT"
      }
    },
    {
      "cell_type": "code",
      "source": [
        "data['Flight'].nunique()"
      ],
      "metadata": {
        "colab": {
          "base_uri": "https://localhost:8080/"
        },
        "id": "JZYwLdIaLChY",
        "outputId": "42302a2b-f5e2-480a-9b12-c89654893889"
      },
      "execution_count": null,
      "outputs": [
        {
          "output_type": "execute_result",
          "data": {
            "text/plain": [
              "498"
            ]
          },
          "metadata": {},
          "execution_count": 6
        }
      ]
    },
    {
      "cell_type": "markdown",
      "metadata": {
        "tags": [],
        "id": "6d20ffb9-f70d-4a9a-a855-88a6716190fa"
      },
      "source": [
        "### **PCA for anomaly detection**\n",
        "####Traditional analysis of the number of components."
      ]
    },
    {
      "cell_type": "code",
      "source": [
        "import numpy as np\n",
        "import matplotlib.pyplot as plt\n",
        "from sklearn.decomposition import PCA\n",
        "\n",
        "# Perform PCA\n",
        "pca = PCA()\n",
        "pca.fit(pca_data1)\n",
        "\n",
        "# Calculate the explained variance ratio\n",
        "explained_variance_ratio = pca.explained_variance_ratio_\n",
        "\n",
        "# Plot the scree plot\n",
        "plt.plot(np.cumsum(explained_variance_ratio))\n",
        "plt.xlabel('Number of Components')\n",
        "plt.ylabel('Cumulative Explained Variance')\n",
        "plt.title('Scree Plot')\n",
        "plt.show()"
      ],
      "metadata": {
        "colab": {
          "base_uri": "https://localhost:8080/",
          "height": 472
        },
        "id": "nqiiZlI8-ALp",
        "outputId": "450444ef-0b3a-43c5-f58e-91875c3280c5"
      },
      "execution_count": null,
      "outputs": [
        {
          "output_type": "display_data",
          "data": {
            "text/plain": [
              "<Figure size 640x480 with 1 Axes>"
            ],
            "image/png": "[encoded data removed]"
          },
          "metadata": {}
        }
      ]
    },
    {
      "cell_type": "code",
      "source": [
        "from sklearn.decomposition import PCA\n",
        "from sklearn.metrics import mean_squared_error\n",
        "\n",
        "# Perform PCA with MLE\n",
        "pca_mle = PCA(n_components='mle')      #Minka's MLE to choose the number of components\n",
        "data1_pca_mle = pca_mle.fit_transform(pca_data1)\n",
        "data1_reconstructed_mle = pca_mle.inverse_transform(data1_pca_mle)\n",
        "reconstruction_error_mle = mean_squared_error(pca_data1, data1_reconstructed_mle)\n",
        "\n",
        "# Perform PCA with a manually-selected number of components\n",
        "n_components_manual = 3 # Select your desired number of components\n",
        "pca_manual = PCA(n_components=n_components_manual)\n",
        "data1_pca_manual = pca_manual.fit_transform(pca_data1)\n",
        "data1_reconstructed_manual = pca_manual.inverse_transform(data1_pca_manual)\n",
        "reconstruction_error_manual = mean_squared_error(pca_data1, data1_reconstructed_manual)\n",
        "\n",
        "print(\"Reconstruction Error (MLE):\", reconstruction_error_mle)\n",
        "print(\"Reconstruction Error (Manual):\", reconstruction_error_manual)"
      ],
      "metadata": {
        "colab": {
          "base_uri": "https://localhost:8080/"
        },
        "id": "E_mRCCQs-zcl",
        "outputId": "7f2ed079-84fd-4b82-8310-0cd52d7068a7"
      },
      "execution_count": null,
      "outputs": [
        {
          "output_type": "stream",
          "name": "stdout",
          "text": [
            "Reconstruction Error (MLE): 0.15452630900302516\n",
            "Reconstruction Error (Manual): 6.724476778957276\n"
          ]
        }
      ]
    },
    {
      "cell_type": "markdown",
      "source": [
        "#### Plotting the reconstruction error from 1 to n components, where n is the number of components suggested by the Minka's MLE approach."
      ],
      "metadata": {
        "id": "Lb6IF_V2Cvjb"
      }
    },
    {
      "cell_type": "code",
      "source": [
        "from sklearn.decomposition import PCA\n",
        "from sklearn.metrics import mean_squared_error\n",
        "import matplotlib.pyplot as plt\n",
        "\n",
        "#Getting the number of components from the Minka's MLE method defined above\n",
        "n_components_mle = pca_mle.n_components_\n",
        "\n",
        "# Initialize lists to store the number of components and the corresponding reconstruction errors\n",
        "num_components_list = []\n",
        "reconstruction_error_list = []\n",
        "\n",
        "for n in range(1, n_components_mle + 1):\n",
        "    # Perform PCA with 'n' components\n",
        "    pca = PCA(n_components=n)\n",
        "    data1_pca = pca.fit_transform(pca_data1)\n",
        "    data1_reconstructed = pca.inverse_transform(data1_pca)\n",
        "\n",
        "    # Calculate reconstruction error\n",
        "    reconstruction_error = mean_squared_error(pca_data1, data1_reconstructed)\n",
        "\n",
        "    # Append the number of components and reconstruction error to the lists\n",
        "    num_components_list.append(n)\n",
        "    reconstruction_error_list.append(reconstruction_error)"
      ],
      "metadata": {
        "id": "L2t6Au5hCu8l"
      },
      "execution_count": null,
      "outputs": []
    },
    {
      "cell_type": "code",
      "source": [
        "import plotly.express as px\n",
        "\n",
        "# Create a dataframe with the data\n",
        "df = pd.DataFrame({'Number of Components': num_components_list, 'Reconstruction Error': reconstruction_error_list})\n",
        "\n",
        "# Create an interactive scatter plot using Plotly\n",
        "fig = px.scatter(df, x='Number of Components', y='Reconstruction Error', hover_data=['Reconstruction Error'])\n",
        "fig.update_traces(mode='lines+markers')\n",
        "fig.update_layout(\n",
        "    title='Reconstruction Error vs Number of Components',\n",
        "    xaxis_title='Number of Components',\n",
        "    yaxis_title='Reconstruction Error'\n",
        ")\n",
        "fig.show()"
      ],
      "metadata": {
        "colab": {
          "base_uri": "https://localhost:8080/",
          "height": 542
        },
        "id": "_C0qdsPSDVaE",
        "outputId": "2a08b258-c9e4-4bdc-e1cb-b68a07b744f3"
      },
      "execution_count": null,
      "outputs": [
        {
          "output_type": "display_data",
          "data": {
            "text/html": [
              "<html>\n",
              "<head><meta charset=\"utf-8\" /></head>\n",
              "<body>\n",
              "    <div>            <script src=\"https://cdnjs.cloudflare.com/ajax/libs/mathjax/2.7.5/MathJax.js?config=TeX-AMS-MML_SVG\"></script><script type=\"text/javascript\">if (window.MathJax && window.MathJax.Hub && window.MathJax.Hub.Config) {window.MathJax.Hub.Config({SVG: {font: \"STIX-Web\"}});}</script>                <script type=\"text/javascript\">window.PlotlyConfig = {MathJaxConfig: 'local'};</script>\n",
              "        <script src=\"https://cdn.plot.ly/plotly-2.18.2.min.js\"></script>                <div id=\"0f496159-03be-4cc6-94f6-c65970a2ff28\" class=\"plotly-graph-div\" style=\"height:525px; width:100%;\"></div>            <script type=\"text/javascript\">                                    window.PLOTLYENV=window.PLOTLYENV || {};                                    if (document.getElementById(\"0f496159-03be-4cc6-94f6-c65970a2ff28\")) {                    Plotly.newPlot(                        \"0f496159-03be-4cc6-94f6-c65970a2ff28\",                        [{\"hovertemplate\":\"Number of Components=%{x}<br>Reconstruction Error=%{y}<extra></extra>\",\"legendgroup\":\"\",\"marker\":{\"color\":\"#636efa\",\"symbol\":\"circle\"},\"mode\":\"lines+markers\",\"name\":\"\",\"orientation\":\"v\",\"showlegend\":false,\"x\":[1,2,3,4,5,6,7,8],\"xaxis\":\"x\",\"y\":[21.998365131436834,12.82289956861164,6.724476778957282,2.6852763209608885,1.4203112353747411,0.7789504785152794,0.39779531463676354,0.15452630900302516],\"yaxis\":\"y\",\"type\":\"scatter\"}],                        {\"template\":{\"data\":{\"histogram2dcontour\":[{\"type\":\"histogram2dcontour\",\"colorbar\":{\"outlinewidth\":0,\"ticks\":\"\"},\"colorscale\":[[0.0,\"#0d0887\"],[0.1111111111111111,\"#46039f\"],[0.2222222222222222,\"#7201a8\"],[0.3333333333333333,\"#9c179e\"],[0.4444444444444444,\"#bd3786\"],[0.5555555555555556,\"#d8576b\"],[0.6666666666666666,\"#ed7953\"],[0.7777777777777778,\"#fb9f3a\"],[0.8888888888888888,\"#fdca26\"],[1.0,\"#f0f921\"]]}],\"choropleth\":[{\"type\":\"choropleth\",\"colorbar\":{\"outlinewidth\":0,\"ticks\":\"\"}}],\"histogram2d\":[{\"type\":\"histogram2d\",\"colorbar\":{\"outlinewidth\":0,\"ticks\":\"\"},\"colorscale\":[[0.0,\"#0d0887\"],[0.1111111111111111,\"#46039f\"],[0.2222222222222222,\"#7201a8\"],[0.3333333333333333,\"#9c179e\"],[0.4444444444444444,\"#bd3786\"],[0.5555555555555556,\"#d8576b\"],[0.6666666666666666,\"#ed7953\"],[0.7777777777777778,\"#fb9f3a\"],[0.8888888888888888,\"#fdca26\"],[1.0,\"#f0f921\"]]}],\"heatmap\":[{\"type\":\"heatmap\",\"colorbar\":{\"outlinewidth\":0,\"ticks\":\"\"},\"colorscale\":[[0.0,\"#0d0887\"],[0.1111111111111111,\"#46039f\"],[0.2222222222222222,\"#7201a8\"],[0.3333333333333333,\"#9c179e\"],[0.4444444444444444,\"#bd3786\"],[0.5555555555555556,\"#d8576b\"],[0.6666666666666666,\"#ed7953\"],[0.7777777777777778,\"#fb9f3a\"],[0.8888888888888888,\"#fdca26\"],[1.0,\"#f0f921\"]]}],\"heatmapgl\":[{\"type\":\"heatmapgl\",\"colorbar\":{\"outlinewidth\":0,\"ticks\":\"\"},\"colorscale\":[[0.0,\"#0d0887\"],[0.1111111111111111,\"#46039f\"],[0.2222222222222222,\"#7201a8\"],[0.3333333333333333,\"#9c179e\"],[0.4444444444444444,\"#bd3786\"],[0.5555555555555556,\"#d8576b\"],[0.6666666666666666,\"#ed7953\"],[0.7777777777777778,\"#fb9f3a\"],[0.8888888888888888,\"#fdca26\"],[1.0,\"#f0f921\"]]}],\"contourcarpet\":[{\"type\":\"contourcarpet\",\"colorbar\":{\"outlinewidth\":0,\"ticks\":\"\"}}],\"contour\":[{\"type\":\"contour\",\"colorbar\":{\"outlinewidth\":0,\"ticks\":\"\"},\"colorscale\":[[0.0,\"#0d0887\"],[0.1111111111111111,\"#46039f\"],[0.2222222222222222,\"#7201a8\"],[0.3333333333333333,\"#9c179e\"],[0.4444444444444444,\"#bd3786\"],[0.5555555555555556,\"#d8576b\"],[0.6666666666666666,\"#ed7953\"],[0.7777777777777778,\"#fb9f3a\"],[0.8888888888888888,\"#fdca26\"],[1.0,\"#f0f921\"]]}],\"surface\":[{\"type\":\"surface\",\"colorbar\":{\"outlinewidth\":0,\"ticks\":\"\"},\"colorscale\":[[0.0,\"#0d0887\"],[0.1111111111111111,\"#46039f\"],[0.2222222222222222,\"#7201a8\"],[0.3333333333333333,\"#9c179e\"],[0.4444444444444444,\"#bd3786\"],[0.5555555555555556,\"#d8576b\"],[0.6666666666666666,\"#ed7953\"],[0.7777777777777778,\"#fb9f3a\"],[0.8888888888888888,\"#fdca26\"],[1.0,\"#f0f921\"]]}],\"mesh3d\":[{\"type\":\"mesh3d\",\"colorbar\":{\"outlinewidth\":0,\"ticks\":\"\"}}],\"scatter\":[{\"fillpattern\":{\"fillmode\":\"overlay\",\"size\":10,\"solidity\":0.2},\"type\":\"scatter\"}],\"parcoords\":[{\"type\":\"parcoords\",\"line\":{\"colorbar\":{\"outlinewidth\":0,\"ticks\":\"\"}}}],\"scatterpolargl\":[{\"type\":\"scatterpolargl\",\"marker\":{\"colorbar\":{\"outlinewidth\":0,\"ticks\":\"\"}}}],\"bar\":[{\"error_x\":{\"color\":\"#2a3f5f\"},\"error_y\":{\"color\":\"#2a3f5f\"},\"marker\":{\"line\":{\"color\":\"#E5ECF6\",\"width\":0.5},\"pattern\":{\"fillmode\":\"overlay\",\"size\":10,\"solidity\":0.2}},\"type\":\"bar\"}],\"scattergeo\":[{\"type\":\"scattergeo\",\"marker\":{\"colorbar\":{\"outlinewidth\":0,\"ticks\":\"\"}}}],\"scatterpolar\":[{\"type\":\"scatterpolar\",\"marker\":{\"colorbar\":{\"outlinewidth\":0,\"ticks\":\"\"}}}],\"histogram\":[{\"marker\":{\"pattern\":{\"fillmode\":\"overlay\",\"size\":10,\"solidity\":0.2}},\"type\":\"histogram\"}],\"scattergl\":[{\"type\":\"scattergl\",\"marker\":{\"colorbar\":{\"outlinewidth\":0,\"ticks\":\"\"}}}],\"scatter3d\":[{\"type\":\"scatter3d\",\"line\":{\"colorbar\":{\"outlinewidth\":0,\"ticks\":\"\"}},\"marker\":{\"colorbar\":{\"outlinewidth\":0,\"ticks\":\"\"}}}],\"scattermapbox\":[{\"type\":\"scattermapbox\",\"marker\":{\"colorbar\":{\"outlinewidth\":0,\"ticks\":\"\"}}}],\"scatterternary\":[{\"type\":\"scatterternary\",\"marker\":{\"colorbar\":{\"outlinewidth\":0,\"ticks\":\"\"}}}],\"scattercarpet\":[{\"type\":\"scattercarpet\",\"marker\":{\"colorbar\":{\"outlinewidth\":0,\"ticks\":\"\"}}}],\"carpet\":[{\"aaxis\":{\"endlinecolor\":\"#2a3f5f\",\"gridcolor\":\"white\",\"linecolor\":\"white\",\"minorgridcolor\":\"white\",\"startlinecolor\":\"#2a3f5f\"},\"baxis\":{\"endlinecolor\":\"#2a3f5f\",\"gridcolor\":\"white\",\"linecolor\":\"white\",\"minorgridcolor\":\"white\",\"startlinecolor\":\"#2a3f5f\"},\"type\":\"carpet\"}],\"table\":[{\"cells\":{\"fill\":{\"color\":\"#EBF0F8\"},\"line\":{\"color\":\"white\"}},\"header\":{\"fill\":{\"color\":\"#C8D4E3\"},\"line\":{\"color\":\"white\"}},\"type\":\"table\"}],\"barpolar\":[{\"marker\":{\"line\":{\"color\":\"#E5ECF6\",\"width\":0.5},\"pattern\":{\"fillmode\":\"overlay\",\"size\":10,\"solidity\":0.2}},\"type\":\"barpolar\"}],\"pie\":[{\"automargin\":true,\"type\":\"pie\"}]},\"layout\":{\"autotypenumbers\":\"strict\",\"colorway\":[\"#636efa\",\"#EF553B\",\"#00cc96\",\"#ab63fa\",\"#FFA15A\",\"#19d3f3\",\"#FF6692\",\"#B6E880\",\"#FF97FF\",\"#FECB52\"],\"font\":{\"color\":\"#2a3f5f\"},\"hovermode\":\"closest\",\"hoverlabel\":{\"align\":\"left\"},\"paper_bgcolor\":\"white\",\"plot_bgcolor\":\"#E5ECF6\",\"polar\":{\"bgcolor\":\"#E5ECF6\",\"angularaxis\":{\"gridcolor\":\"white\",\"linecolor\":\"white\",\"ticks\":\"\"},\"radialaxis\":{\"gridcolor\":\"white\",\"linecolor\":\"white\",\"ticks\":\"\"}},\"ternary\":{\"bgcolor\":\"#E5ECF6\",\"aaxis\":{\"gridcolor\":\"white\",\"linecolor\":\"white\",\"ticks\":\"\"},\"baxis\":{\"gridcolor\":\"white\",\"linecolor\":\"white\",\"ticks\":\"\"},\"caxis\":{\"gridcolor\":\"white\",\"linecolor\":\"white\",\"ticks\":\"\"}},\"coloraxis\":{\"colorbar\":{\"outlinewidth\":0,\"ticks\":\"\"}},\"colorscale\":{\"sequential\":[[0.0,\"#0d0887\"],[0.1111111111111111,\"#46039f\"],[0.2222222222222222,\"#7201a8\"],[0.3333333333333333,\"#9c179e\"],[0.4444444444444444,\"#bd3786\"],[0.5555555555555556,\"#d8576b\"],[0.6666666666666666,\"#ed7953\"],[0.7777777777777778,\"#fb9f3a\"],[0.8888888888888888,\"#fdca26\"],[1.0,\"#f0f921\"]],\"sequentialminus\":[[0.0,\"#0d0887\"],[0.1111111111111111,\"#46039f\"],[0.2222222222222222,\"#7201a8\"],[0.3333333333333333,\"#9c179e\"],[0.4444444444444444,\"#bd3786\"],[0.5555555555555556,\"#d8576b\"],[0.6666666666666666,\"#ed7953\"],[0.7777777777777778,\"#fb9f3a\"],[0.8888888888888888,\"#fdca26\"],[1.0,\"#f0f921\"]],\"diverging\":[[0,\"#8e0152\"],[0.1,\"#c51b7d\"],[0.2,\"#de77ae\"],[0.3,\"#f1b6da\"],[0.4,\"#fde0ef\"],[0.5,\"#f7f7f7\"],[0.6,\"#e6f5d0\"],[0.7,\"#b8e186\"],[0.8,\"#7fbc41\"],[0.9,\"#4d9221\"],[1,\"#276419\"]]},\"xaxis\":{\"gridcolor\":\"white\",\"linecolor\":\"white\",\"ticks\":\"\",\"title\":{\"standoff\":15},\"zerolinecolor\":\"white\",\"automargin\":true,\"zerolinewidth\":2},\"yaxis\":{\"gridcolor\":\"white\",\"linecolor\":\"white\",\"ticks\":\"\",\"title\":{\"standoff\":15},\"zerolinecolor\":\"white\",\"automargin\":true,\"zerolinewidth\":2},\"scene\":{\"xaxis\":{\"backgroundcolor\":\"#E5ECF6\",\"gridcolor\":\"white\",\"linecolor\":\"white\",\"showbackground\":true,\"ticks\":\"\",\"zerolinecolor\":\"white\",\"gridwidth\":2},\"yaxis\":{\"backgroundcolor\":\"#E5ECF6\",\"gridcolor\":\"white\",\"linecolor\":\"white\",\"showbackground\":true,\"ticks\":\"\",\"zerolinecolor\":\"white\",\"gridwidth\":2},\"zaxis\":{\"backgroundcolor\":\"#E5ECF6\",\"gridcolor\":\"white\",\"linecolor\":\"white\",\"showbackground\":true,\"ticks\":\"\",\"zerolinecolor\":\"white\",\"gridwidth\":2}},\"shapedefaults\":{\"line\":{\"color\":\"#2a3f5f\"}},\"annotationdefaults\":{\"arrowcolor\":\"#2a3f5f\",\"arrowhead\":0,\"arrowwidth\":1},\"geo\":{\"bgcolor\":\"white\",\"landcolor\":\"#E5ECF6\",\"subunitcolor\":\"white\",\"showland\":true,\"showlakes\":true,\"lakecolor\":\"white\"},\"title\":{\"x\":0.05},\"mapbox\":{\"style\":\"light\"}}},\"xaxis\":{\"anchor\":\"y\",\"domain\":[0.0,1.0],\"title\":{\"text\":\"Number of Components\"}},\"yaxis\":{\"anchor\":\"x\",\"domain\":[0.0,1.0],\"title\":{\"text\":\"Reconstruction Error\"}},\"legend\":{\"tracegroupgap\":0},\"margin\":{\"t\":60},\"title\":{\"text\":\"Reconstruction Error vs Number of Components\"}},                        {\"responsive\": true}                    ).then(function(){\n",
              "                            \n",
              "var gd = document.getElementById('0f496159-03be-4cc6-94f6-c65970a2ff28');\n",
              "var x = new MutationObserver(function (mutations, observer) {{\n",
              "        var display = window.getComputedStyle(gd).display;\n",
              "        if (!display || display === 'none') {{\n",
              "            console.log([gd, 'removed!']);\n",
              "            Plotly.purge(gd);\n",
              "            observer.disconnect();\n",
              "        }}\n",
              "}});\n",
              "\n",
              "// Listen for the removal of the full notebook cells\n",
              "var notebookContainer = gd.closest('#notebook-container');\n",
              "if (notebookContainer) {{\n",
              "    x.observe(notebookContainer, {childList: true});\n",
              "}}\n",
              "\n",
              "// Listen for the clearing of the current output cell\n",
              "var outputEl = gd.closest('.output');\n",
              "if (outputEl) {{\n",
              "    x.observe(outputEl, {childList: true});\n",
              "}}\n",
              "\n",
              "                        })                };                            </script>        </div>\n",
              "</body>\n",
              "</html>"
            ]
          },
          "metadata": {}
        }
      ]
    },
    {
      "cell_type": "markdown",
      "source": [
        "#### Apply PCA with the desired method ('mle' for automatic number of components or setting it manually based on the scree plot."
      ],
      "metadata": {
        "id": "EubCECoAVWYk"
      }
    },
    {
      "cell_type": "code",
      "source": [
        "# Perform PCA with MLE\n",
        "pca_mle = PCA(n_components='mle')      #Minka's MLE to choose the number of components\n",
        "data1_pca = pca_mle.fit_transform(pca_data1)"
      ],
      "metadata": {
        "id": "mZLxwxNrVZXJ"
      },
      "execution_count": null,
      "outputs": []
    },
    {
      "cell_type": "markdown",
      "metadata": {
        "id": "3b99a91f-29ab-4e4a-89b3-23bf42e169a8"
      },
      "source": [
        "#### Reconstruct the data from the reduced dimensions"
      ]
    },
    {
      "cell_type": "code",
      "execution_count": null,
      "metadata": {
        "id": "e20abd37-a045-4733-8714-1654e81ebdb6"
      },
      "outputs": [],
      "source": [
        "data1_reconstructed = pca.inverse_transform(data1_pca)"
      ]
    },
    {
      "cell_type": "markdown",
      "metadata": {
        "id": "e651e592-d5fa-4ef5-9201-cf8f9ba4ac8a"
      },
      "source": [
        "#### Compute the reconstruction error as the mean squared error between the original data and the reconstructed data"
      ]
    },
    {
      "cell_type": "code",
      "execution_count": null,
      "metadata": {
        "id": "b2a764b1-ca34-4cfb-950f-c73d2e9d2ed7"
      },
      "outputs": [],
      "source": [
        "reconstruction_error = ((pca_data1 - data1_reconstructed) ** 2).mean(axis=1)"
      ]
    },
    {
      "cell_type": "markdown",
      "metadata": {
        "id": "4c61822c-d179-45c4-9dd9-6ec36db02322"
      },
      "source": [
        "#### Identify samples with high reconstruction errors as potential anomalies"
      ]
    },
    {
      "cell_type": "code",
      "execution_count": null,
      "metadata": {
        "id": "1dcf6d07-83ec-44fc-8fb0-62a2566722ec"
      },
      "outputs": [],
      "source": [
        "threshold = reconstruction_error_mle.mean() + (0.5 * reconstruction_error.std())  # Adjust the threshold\n",
        "anomaly_indices = reconstruction_error[reconstruction_error > threshold].index"
      ]
    },
    {
      "cell_type": "code",
      "execution_count": null,
      "metadata": {
        "id": "48b96e12-3b32-415a-9750-c1523722f72e",
        "outputId": "c998e066-3347-4015-d07e-54fa7c90a809",
        "colab": {
          "base_uri": "https://localhost:8080/"
        }
      },
      "outputs": [
        {
          "output_type": "stream",
          "name": "stdout",
          "text": [
            "Potential anomaly indices: Int64Index([    663,    6801,    6810,    6811,    6814,    6816,    6850,\n",
            "               6851,    6854,    6908,\n",
            "            ...\n",
            "            3233692, 3233775, 3233779, 3233782, 3233785, 3233805, 3233858,\n",
            "            3233859, 3235026, 3235447],\n",
            "           dtype='int64', length=12413)\n"
          ]
        }
      ],
      "source": [
        "print(\"Potential anomaly indices:\", anomaly_indices)"
      ]
    },
    {
      "cell_type": "markdown",
      "source": [
        "#### Identifying as leaks only anomalies constitued by more than n consecutive anomaly indices (n=40 in our case)."
      ],
      "metadata": {
        "id": "cdhHxnK0yNUN"
      }
    },
    {
      "cell_type": "code",
      "source": [
        "sequences = []\n",
        "current_sequence = []\n",
        "seql = []\n",
        "\n",
        "# Iterate over the numbers list\n",
        "for i in range(len(anomaly_indices)-1):\n",
        "    # Check if the next number is consecutive\n",
        "    if anomaly_indices[i+1] == anomaly_indices[i] + 1:\n",
        "        # If it is, add the current number to the current sequence\n",
        "        current_sequence.append(anomaly_indices[i])\n",
        "    else:\n",
        "        # If it's not, add the current number and the current sequence to the sequences list\n",
        "        current_sequence.append(anomaly_indices[i])\n",
        "        sequences.append(current_sequence)\n",
        "        # Reset the current sequence\n",
        "        current_sequence = []\n",
        "\n",
        "# Add the last number to the last sequence\n",
        "current_sequence.append(anomaly_indices[-1])\n",
        "sequences.append(current_sequence)\n",
        "\n",
        "# Append sequences that are over 10 seconds long\n",
        "for seq in sequences:\n",
        "  if len(seq) > 40:\n",
        "    seql.append(seq)\n",
        "    print(seq)"
      ],
      "metadata": {
        "id": "_WSWGcu9NURL",
        "colab": {
          "base_uri": "https://localhost:8080/"
        },
        "outputId": "808abbc5-54cb-4742-f0e3-b6c12a81ddba"
      },
      "execution_count": null,
      "outputs": [
        {
          "output_type": "stream",
          "name": "stdout",
          "text": [
            "[429722, 429723, 429724, 429725, 429726, 429727, 429728, 429729, 429730, 429731, 429732, 429733, 429734, 429735, 429736, 429737, 429738, 429739, 429740, 429741, 429742, 429743, 429744, 429745, 429746, 429747, 429748, 429749, 429750, 429751, 429752, 429753, 429754, 429755, 429756, 429757, 429758, 429759, 429760, 429761, 429762, 429763]\n",
            "[1898867, 1898868, 1898869, 1898870, 1898871, 1898872, 1898873, 1898874, 1898875, 1898876, 1898877, 1898878, 1898879, 1898880, 1898881, 1898882, 1898883, 1898884, 1898885, 1898886, 1898887, 1898888, 1898889, 1898890, 1898891, 1898892, 1898893, 1898894, 1898895, 1898896, 1898897, 1898898, 1898899, 1898900, 1898901, 1898902, 1898903, 1898904, 1898905, 1898906, 1898907, 1898908, 1898909, 1898910, 1898911, 1898912, 1898913, 1898914, 1898915, 1898916, 1898917, 1898918, 1898919, 1898920, 1898921, 1898922, 1898923, 1898924, 1898925, 1898926]\n",
            "[2012141, 2012142, 2012143, 2012144, 2012145, 2012146, 2012147, 2012148, 2012149, 2012150, 2012151, 2012152, 2012153, 2012154, 2012155, 2012156, 2012157, 2012158, 2012159, 2012160, 2012161, 2012162, 2012163, 2012164, 2012165, 2012166, 2012167, 2012168, 2012169, 2012170, 2012171, 2012172, 2012173, 2012174, 2012175, 2012176, 2012177, 2012178, 2012179, 2012180, 2012181, 2012182]\n",
            "[2012196, 2012197, 2012198, 2012199, 2012200, 2012201, 2012202, 2012203, 2012204, 2012205, 2012206, 2012207, 2012208, 2012209, 2012210, 2012211, 2012212, 2012213, 2012214, 2012215, 2012216, 2012217, 2012218, 2012219, 2012220, 2012221, 2012222, 2012223, 2012224, 2012225, 2012226, 2012227, 2012228, 2012229, 2012230, 2012231, 2012232, 2012233, 2012234, 2012235, 2012236, 2012237, 2012238, 2012239, 2012240, 2012241, 2012242, 2012243, 2012244, 2012245, 2012246, 2012247, 2012248, 2012249, 2012250, 2012251, 2012252, 2012253, 2012254, 2012255, 2012256, 2012257, 2012258, 2012259, 2012260, 2012261, 2012262, 2012263, 2012264, 2012265, 2012266, 2012267, 2012268, 2012269, 2012270, 2012271, 2012272, 2012273, 2012274, 2012275, 2012276, 2012277, 2012278, 2012279, 2012280, 2012281, 2012282, 2012283, 2012284, 2012285, 2012286, 2012287, 2012288, 2012289, 2012290, 2012291, 2012292, 2012293]\n",
            "[2013258, 2013259, 2013260, 2013261, 2013262, 2013263, 2013264, 2013265, 2013266, 2013267, 2013268, 2013269, 2013270, 2013271, 2013272, 2013273, 2013274, 2013275, 2013276, 2013277, 2013278, 2013279, 2013280, 2013281, 2013282, 2013283, 2013284, 2013285, 2013286, 2013287, 2013288, 2013289, 2013290, 2013291, 2013292, 2013293, 2013294, 2013295, 2013296, 2013297, 2013298, 2013299, 2013300, 2013301, 2013302, 2013303, 2013304, 2013305, 2013306, 2013307, 2013308, 2013309, 2013310, 2013311, 2013312, 2013313, 2013314, 2013315, 2013316, 2013317, 2013318, 2013319, 2013320, 2013321, 2013322, 2013323, 2013324, 2013325, 2013326, 2013327, 2013328, 2013329]\n",
            "[2017360, 2017361, 2017362, 2017363, 2017364, 2017365, 2017366, 2017367, 2017368, 2017369, 2017370, 2017371, 2017372, 2017373, 2017374, 2017375, 2017376, 2017377, 2017378, 2017379, 2017380, 2017381, 2017382, 2017383, 2017384, 2017385, 2017386, 2017387, 2017388, 2017389, 2017390, 2017391, 2017392, 2017393, 2017394, 2017395, 2017396, 2017397, 2017398, 2017399, 2017400, 2017401, 2017402, 2017403]\n",
            "[2019068, 2019069, 2019070, 2019071, 2019072, 2019073, 2019074, 2019075, 2019076, 2019077, 2019078, 2019079, 2019080, 2019081, 2019082, 2019083, 2019084, 2019085, 2019086, 2019087, 2019088, 2019089, 2019090, 2019091, 2019092, 2019093, 2019094, 2019095, 2019096, 2019097, 2019098, 2019099, 2019100, 2019101, 2019102, 2019103, 2019104, 2019105, 2019106, 2019107, 2019108, 2019109, 2019110, 2019111, 2019112, 2019113, 2019114, 2019115, 2019116, 2019117, 2019118]\n"
          ]
        }
      ]
    },
    {
      "cell_type": "markdown",
      "source": [
        "---------------------------"
      ],
      "metadata": {
        "id": "rtRC0iASPSCa"
      }
    },
    {
      "cell_type": "markdown",
      "source": [
        "#### Create a parallel dataset out of anomalies identified as leaks"
      ],
      "metadata": {
        "id": "KGXbKz1zoDRp"
      }
    },
    {
      "cell_type": "code",
      "source": [
        "# Flatten the 'anomaly_indices' list\n",
        "anomaly_indices_flat = [index for sublist in seql for index in sublist]\n",
        "\n",
        "# Create the dataframe 'anomaly_data' using flattened 'anomaly_indices'\n",
        "anomaly_data = data.iloc[anomaly_indices_flat]"
      ],
      "metadata": {
        "id": "dX2tqqjO9JvN"
      },
      "execution_count": null,
      "outputs": []
    },
    {
      "cell_type": "markdown",
      "source": [
        "#### Check the number of minutes of anomaly"
      ],
      "metadata": {
        "id": "LxfgdgRG-SCY"
      }
    },
    {
      "cell_type": "code",
      "execution_count": null,
      "metadata": {
        "id": "23a3877d-edf5-43ad-a8f4-c74b62c097a9",
        "colab": {
          "base_uri": "https://localhost:8080/"
        },
        "outputId": "0a49bed7-aebd-497e-8ce3-96e31afc59b5"
      },
      "outputs": [
        {
          "output_type": "execute_result",
          "data": {
            "text/plain": [
              "6"
            ]
          },
          "metadata": {},
          "execution_count": 21
        }
      ],
      "source": [
        "anomaly_data.shape[0]//60"
      ]
    },
    {
      "cell_type": "markdown",
      "source": [
        "#### Computing the columns contributing more to the reconstruction error"
      ],
      "metadata": {
        "id": "LMJYoZInoM0N"
      }
    },
    {
      "cell_type": "markdown",
      "metadata": {
        "id": "a747abdc-c00d-4d24-8660-3255840f7a0b"
      },
      "source": [
        "The column-wise standard deviation is calculated for both datasets and the columns where the standard deviation in the 'anomaly_data' is higher than in the non-anomaly data are identified."
      ]
    },
    {
      "cell_type": "code",
      "execution_count": null,
      "metadata": {
        "id": "ebeced1a-5671-439c-af97-4714bdf33df1",
        "outputId": "29a1d121-5f20-4d7c-dbe5-4dff5565da9a",
        "colab": {
          "base_uri": "https://localhost:8080/"
        }
      },
      "outputs": [
        {
          "output_type": "stream",
          "name": "stdout",
          "text": [
            "Columns with higher variation in 'anomaly_data':\n",
            "VALUE_FOB            7675.830453\n",
            "VALUE_FUEL_QTY_CT    2982.279447\n",
            "dtype: float64\n"
          ]
        },
        {
          "output_type": "stream",
          "name": "stderr",
          "text": [
            "<ipython-input-22-974378dac033>:2: FutureWarning:\n",
            "\n",
            "The default value of numeric_only in DataFrame.std is deprecated. In a future version, it will default to False. In addition, specifying 'numeric_only=None' is deprecated. Select only valid columns or specify the value of numeric_only to silence this warning.\n",
            "\n",
            "<ipython-input-22-974378dac033>:3: FutureWarning:\n",
            "\n",
            "The default value of numeric_only in DataFrame.std is deprecated. In a future version, it will default to False. In addition, specifying 'numeric_only=None' is deprecated. Select only valid columns or specify the value of numeric_only to silence this warning.\n",
            "\n"
          ]
        }
      ],
      "source": [
        "# Calculate the column-wise standard deviation for both datasets\n",
        "non_anomaly_std = data.drop(anomaly_indices).std()\n",
        "anomaly_std = anomaly_data.std()\n",
        "\n",
        "# Compare the standard deviations and identify columns with higher variation in 'anomaly_data'\n",
        "columns_with_higher_variation = anomaly_std[anomaly_std > non_anomaly_std]\n",
        "\n",
        "# Print the columns with higher variation in 'anomaly_data'\n",
        "print(\"Columns with higher variation in 'anomaly_data':\")\n",
        "print(columns_with_higher_variation)"
      ]
    },
    {
      "cell_type": "markdown",
      "source": [
        "#### Exploring the values of specific columns"
      ],
      "metadata": {
        "id": "TWlAeJaGowiR"
      }
    },
    {
      "cell_type": "markdown",
      "metadata": {
        "id": "ca922eba-91d4-45ba-a3c8-2564f7e9af74"
      },
      "source": [
        "Here you can find a list of the columns useful for the following lines"
      ]
    },
    {
      "cell_type": "code",
      "execution_count": null,
      "metadata": {
        "id": "deed3bcc-c24a-451e-8728-bbedcbc662e6",
        "outputId": "bff6892b-d093-4aaf-b027-d83ef9fb3a40",
        "colab": {
          "base_uri": "https://localhost:8080/"
        }
      },
      "outputs": [
        {
          "output_type": "execute_result",
          "data": {
            "text/plain": [
              "['UTC_TIME',\n",
              " 'FUEL_USED_2',\n",
              " 'FUEL_USED_3',\n",
              " 'FUEL_USED_4',\n",
              " 'FW_GEO_ALTITUDE',\n",
              " 'VALUE_FOB',\n",
              " 'VALUE_FUEL_QTY_CT',\n",
              " 'VALUE_FUEL_QTY_FT1',\n",
              " 'VALUE_FUEL_QTY_FT2',\n",
              " 'VALUE_FUEL_QTY_FT3',\n",
              " 'VALUE_FUEL_QTY_FT4',\n",
              " 'VALUE_FUEL_QTY_LXT',\n",
              " 'VALUE_FUEL_QTY_RXT',\n",
              " 'FLIGHT_PHASE_COUNT',\n",
              " 'FUEL_USED_1',\n",
              " 'Flight',\n",
              " 'MSN']"
            ]
          },
          "metadata": {},
          "execution_count": 23
        }
      ],
      "source": [
        "anomaly_data.columns.tolist()"
      ]
    },
    {
      "cell_type": "markdown",
      "metadata": {
        "id": "5b8f612b-5319-4189-8b26-e2ff13c93467"
      },
      "source": [
        "You can insert here the name of a **categorical** column:"
      ]
    },
    {
      "cell_type": "code",
      "execution_count": null,
      "metadata": {
        "id": "09c16371-673e-47ca-9e7d-de9cfe9f5918"
      },
      "outputs": [],
      "source": [
        "categorical_column = 'FLIGHT_PHASE_COUNT'"
      ]
    },
    {
      "cell_type": "code",
      "execution_count": null,
      "metadata": {
        "id": "a723fcd1-1612-4a4f-8661-f838919a5bc0",
        "outputId": "1346a7a8-54f8-4ecd-e308-3f91c2eb3475",
        "colab": {
          "base_uri": "https://localhost:8080/",
          "height": 483
        }
      },
      "outputs": [
        {
          "output_type": "display_data",
          "data": {
            "text/plain": [
              "<Figure size 640x480 with 1 Axes>"
            ],
            "image/png": "[encoded data removed]"
          },
          "metadata": {}
        }
      ],
      "source": [
        "column_values = anomaly_data[categorical_column]\n",
        "\n",
        "# Create a countplot using seaborn\n",
        "sns.countplot(x=column_values)\n",
        "\n",
        "# Set labels and title\n",
        "plt.xlabel(categorical_column)\n",
        "plt.ylabel(\"Frequency\")\n",
        "plt.title(\"Frequency Plot of Categorical Variable\")\n",
        "\n",
        "# Rotate x-axis labels if needed\n",
        "plt.xticks(rotation=45)\n",
        "\n",
        "# Display the plot\n",
        "plt.show()"
      ]
    },
    {
      "cell_type": "markdown",
      "metadata": {
        "id": "86269e4f-d6fb-4fec-adcb-c4580b9eee52"
      },
      "source": [
        "And here the comparison with the original data:"
      ]
    },
    {
      "cell_type": "code",
      "execution_count": null,
      "metadata": {
        "id": "4886fd52-87c6-44a1-924d-cd7d89f9f8e1",
        "outputId": "fcd6f54a-e269-4518-8683-b43fb82f9f8e",
        "colab": {
          "base_uri": "https://localhost:8080/",
          "height": 489
        }
      },
      "outputs": [
        {
          "output_type": "display_data",
          "data": {
            "text/plain": [
              "<Figure size 640x480 with 1 Axes>"
            ],
            "image/png": "[encoded data removed]"
          },
          "metadata": {}
        }
      ],
      "source": [
        "column_values = data[categorical_column]\n",
        "\n",
        "# Create a countplot using seaborn\n",
        "sns.countplot(x=column_values)\n",
        "\n",
        "# Set labels and title\n",
        "plt.xlabel(categorical_column)\n",
        "plt.ylabel(\"Frequency\")\n",
        "plt.title(\"Frequency Plot of Categorical Variable\")\n",
        "\n",
        "# Rotate x-axis labels if needed\n",
        "plt.xticks(rotation=45)\n",
        "\n",
        "# Display the plot\n",
        "plt.show()"
      ]
    },
    {
      "cell_type": "markdown",
      "metadata": {
        "id": "e1236619-6ed1-43b7-af1f-1459ef99ce5b"
      },
      "source": [
        "----------------------------"
      ]
    },
    {
      "cell_type": "markdown",
      "metadata": {
        "id": "a56bc12b-ad10-425a-b9d5-338092a04c07"
      },
      "source": [
        "You can insert here the name of a **numerical** column:"
      ]
    },
    {
      "cell_type": "code",
      "execution_count": null,
      "metadata": {
        "id": "75e5c540-7704-4517-9f17-5b54423b6997"
      },
      "outputs": [],
      "source": [
        "numerical_column = 'VALUE_FUEL_QTY_RXT'"
      ]
    },
    {
      "cell_type": "code",
      "execution_count": null,
      "metadata": {
        "id": "6511bf6a-742c-4a7d-a00e-ba1126ea7050",
        "outputId": "5f378544-ad59-4613-9253-3400dc0fbd2a",
        "colab": {
          "base_uri": "https://localhost:8080/",
          "height": 472
        }
      },
      "outputs": [
        {
          "output_type": "display_data",
          "data": {
            "text/plain": [
              "<Figure size 640x480 with 1 Axes>"
            ],
            "image/png": "[encoded data removed]"
          },
          "metadata": {}
        }
      ],
      "source": [
        "column_values = anomaly_data[numerical_column]\n",
        "\n",
        "# Create a histogram using matplotlib\n",
        "plt.hist(column_values, bins=20)  # Adjust the number of bins as needed\n",
        "\n",
        "# Set labels and title\n",
        "plt.xlabel(numerical_column)\n",
        "plt.ylabel(\"Frequency\")\n",
        "plt.title(\"Histogram of Numerical Variable\")\n",
        "\n",
        "# Display the plot\n",
        "plt.show()"
      ]
    },
    {
      "cell_type": "code",
      "execution_count": null,
      "metadata": {
        "id": "c33a52b2-5872-48e0-a673-4c4d44e16497",
        "outputId": "f34f0964-44ac-45d8-f3d0-ef6799b74288",
        "colab": {
          "base_uri": "https://localhost:8080/",
          "height": 472
        }
      },
      "outputs": [
        {
          "output_type": "display_data",
          "data": {
            "text/plain": [
              "<Figure size 640x480 with 1 Axes>"
            ],
            "image/png": "[encoded data removed]"
          },
          "metadata": {}
        }
      ],
      "source": [
        "column_values = data[numerical_column]\n",
        "\n",
        "# Create a histogram using matplotlib\n",
        "plt.hist(column_values, bins=20)  # Adjust the number of bins as needed\n",
        "\n",
        "# Set labels and title\n",
        "plt.xlabel(numerical_column)\n",
        "plt.ylabel(\"Frequency\")\n",
        "plt.title(\"Frequency Plot of Numerical Variable\")\n",
        "\n",
        "# Display the plot\n",
        "plt.show()"
      ]
    },
    {
      "cell_type": "markdown",
      "source": [
        "#### Computing the difference in average between original data and anomaly data"
      ],
      "metadata": {
        "id": "EZeUn6ylo0Y8"
      }
    },
    {
      "cell_type": "code",
      "execution_count": null,
      "metadata": {
        "id": "e77e32ed-0a4e-4048-9226-599ecaa98617",
        "outputId": "80c626d8-ba9d-46d4-91ab-b86d1d49d1f2",
        "colab": {
          "base_uri": "https://localhost:8080/"
        }
      },
      "outputs": [
        {
          "output_type": "stream",
          "name": "stdout",
          "text": [
            "The difference in the column's average value between the anomaly data and the full dataset is: -35.295022651937266%\n"
          ]
        }
      ],
      "source": [
        "avg_value_anomaly = anomaly_data[numerical_column].mean()\n",
        "avg_value_original = data[numerical_column].mean()\n",
        "percentage_diff = ((avg_value_original - avg_value_anomaly) / avg_value_anomaly) * 100\n",
        "\n",
        "print(f\"The difference in the column's average value between the anomaly data and the full dataset is: {percentage_diff}%\")"
      ]
    },
    {
      "cell_type": "code",
      "source": [
        "numerical_columns = [\n",
        " 'VALUE_FOB',\n",
        " 'VALUE_FUEL_QTY_CT',\n",
        " 'VALUE_FUEL_QTY_FT1',\n",
        " 'VALUE_FUEL_QTY_FT2',\n",
        " 'VALUE_FUEL_QTY_FT3',\n",
        " 'VALUE_FUEL_QTY_FT4',\n",
        " 'VALUE_FUEL_QTY_LXT',\n",
        " 'VALUE_FUEL_QTY_RXT',]\n",
        "\n",
        "percentage_diff_df = pd.DataFrame(columns=['Column', '% change in Anomaly vs. Full data'])\n",
        "\n",
        "for column in numerical_columns:\n",
        "    avg_value_anomaly = anomaly_data[column].mean()\n",
        "    avg_value_original = data[column].mean()\n",
        "    percentage_diff = ((avg_value_original - avg_value_anomaly) / avg_value_anomaly) * 100\n",
        "\n",
        "    percentage_diff_df = percentage_diff_df.append({'Column': column, '% change in Anomaly vs. Full data': percentage_diff}, ignore_index=True)\n",
        "\n",
        "percentage_diff_df"
      ],
      "metadata": {
        "colab": {
          "base_uri": "https://localhost:8080/",
          "height": 841
        },
        "id": "mUW64toFJwE-",
        "outputId": "4ef73a24-5a8b-415f-a616-6377738fbc84"
      },
      "execution_count": null,
      "outputs": [
        {
          "output_type": "stream",
          "name": "stderr",
          "text": [
            "<ipython-input-31-8509d4cba8e7>:18: FutureWarning:\n",
            "\n",
            "The frame.append method is deprecated and will be removed from pandas in a future version. Use pandas.concat instead.\n",
            "\n",
            "<ipython-input-31-8509d4cba8e7>:18: FutureWarning:\n",
            "\n",
            "The frame.append method is deprecated and will be removed from pandas in a future version. Use pandas.concat instead.\n",
            "\n",
            "<ipython-input-31-8509d4cba8e7>:18: FutureWarning:\n",
            "\n",
            "The frame.append method is deprecated and will be removed from pandas in a future version. Use pandas.concat instead.\n",
            "\n",
            "<ipython-input-31-8509d4cba8e7>:18: FutureWarning:\n",
            "\n",
            "The frame.append method is deprecated and will be removed from pandas in a future version. Use pandas.concat instead.\n",
            "\n",
            "<ipython-input-31-8509d4cba8e7>:18: FutureWarning:\n",
            "\n",
            "The frame.append method is deprecated and will be removed from pandas in a future version. Use pandas.concat instead.\n",
            "\n",
            "<ipython-input-31-8509d4cba8e7>:18: FutureWarning:\n",
            "\n",
            "The frame.append method is deprecated and will be removed from pandas in a future version. Use pandas.concat instead.\n",
            "\n",
            "<ipython-input-31-8509d4cba8e7>:18: FutureWarning:\n",
            "\n",
            "The frame.append method is deprecated and will be removed from pandas in a future version. Use pandas.concat instead.\n",
            "\n",
            "<ipython-input-31-8509d4cba8e7>:18: FutureWarning:\n",
            "\n",
            "The frame.append method is deprecated and will be removed from pandas in a future version. Use pandas.concat instead.\n",
            "\n"
          ]
        },
        {
          "output_type": "execute_result",
          "data": {
            "text/plain": [
              "               Column  % change in Anomaly vs. Full data\n",
              "0           VALUE_FOB                         -35.713132\n",
              "1   VALUE_FUEL_QTY_CT                         -88.180100\n",
              "2  VALUE_FUEL_QTY_FT1                          -7.449520\n",
              "3  VALUE_FUEL_QTY_FT2                          -6.789932\n",
              "4  VALUE_FUEL_QTY_FT3                          -7.225367\n",
              "5  VALUE_FUEL_QTY_FT4                          -6.629188\n",
              "6  VALUE_FUEL_QTY_LXT                         -42.972168\n",
              "7  VALUE_FUEL_QTY_RXT                         -35.295023"
            ],
            "text/html": [
              "\n",
              "  <div id=\"df-9c0aa70e-3e49-4a60-bbbf-fb40efbdabef\">\n",
              "    <div class=\"colab-df-container\">\n",
              "      <div>\n",
              "<style scoped>\n",
              "    .dataframe tbody tr th:only-of-type {\n",
              "        vertical-align: middle;\n",
              "    }\n",
              "\n",
              "    .dataframe tbody tr th {\n",
              "        vertical-align: top;\n",
              "    }\n",
              "\n",
              "    .dataframe thead th {\n",
              "        text-align: right;\n",
              "    }\n",
              "</style>\n",
              "<table border=\"1\" class=\"dataframe\">\n",
              "  <thead>\n",
              "    <tr style=\"text-align: right;\">\n",
              "      <th></th>\n",
              "      <th>Column</th>\n",
              "      <th>% change in Anomaly vs. Full data</th>\n",
              "    </tr>\n",
              "  </thead>\n",
              "  <tbody>\n",
              "    <tr>\n",
              "      <th>0</th>\n",
              "      <td>VALUE_FOB</td>\n",
              "      <td>-35.713132</td>\n",
              "    </tr>\n",
              "    <tr>\n",
              "      <th>1</th>\n",
              "      <td>VALUE_FUEL_QTY_CT</td>\n",
              "      <td>-88.180100</td>\n",
              "    </tr>\n",
              "    <tr>\n",
              "      <th>2</th>\n",
              "      <td>VALUE_FUEL_QTY_FT1</td>\n",
              "      <td>-7.449520</td>\n",
              "    </tr>\n",
              "    <tr>\n",
              "      <th>3</th>\n",
              "      <td>VALUE_FUEL_QTY_FT2</td>\n",
              "      <td>-6.789932</td>\n",
              "    </tr>\n",
              "    <tr>\n",
              "      <th>4</th>\n",
              "      <td>VALUE_FUEL_QTY_FT3</td>\n",
              "      <td>-7.225367</td>\n",
              "    </tr>\n",
              "    <tr>\n",
              "      <th>5</th>\n",
              "      <td>VALUE_FUEL_QTY_FT4</td>\n",
              "      <td>-6.629188</td>\n",
              "    </tr>\n",
              "    <tr>\n",
              "      <th>6</th>\n",
              "      <td>VALUE_FUEL_QTY_LXT</td>\n",
              "      <td>-42.972168</td>\n",
              "    </tr>\n",
              "    <tr>\n",
              "      <th>7</th>\n",
              "      <td>VALUE_FUEL_QTY_RXT</td>\n",
              "      <td>-35.295023</td>\n",
              "    </tr>\n",
              "  </tbody>\n",
              "</table>\n",
              "</div>\n",
              "      <button class=\"colab-df-convert\" onclick=\"convertToInteractive('df-9c0aa70e-3e49-4a60-bbbf-fb40efbdabef')\"\n",
              "              title=\"Convert this dataframe to an interactive table.\"\n",
              "              style=\"display:none;\">\n",
              "        \n",
              "  <svg xmlns=\"http://www.w3.org/2000/svg\" height=\"24px\"viewBox=\"0 0 24 24\"\n",
              "       width=\"24px\">\n",
              "    <path d=\"M0 0h24v24H0V0z\" fill=\"none\"/>\n",
              "    <path d=\"M18.56 5.44l.94 2.06.94-2.06 2.06-.94-2.06-.94-.94-2.06-.94 2.06-2.06.94zm-11 1L8.5 8.5l.94-2.06 2.06-.94-2.06-.94L8.5 2.5l-.94 2.06-2.06.94zm10 10l.94 2.06.94-2.06 2.06-.94-2.06-.94-.94-2.06-.94 2.06-2.06.94z\"/><path d=\"M17.41 7.96l-1.37-1.37c-.4-.4-.92-.59-1.43-.59-.52 0-1.04.2-1.43.59L10.3 9.45l-7.72 7.72c-.78.78-.78 2.05 0 2.83L4 21.41c.39.39.9.59 1.41.59.51 0 1.02-.2 1.41-.59l7.78-7.78 2.81-2.81c.8-.78.8-2.07 0-2.86zM5.41 20L4 18.59l7.72-7.72 1.47 1.35L5.41 20z\"/>\n",
              "  </svg>\n",
              "      </button>\n",
              "      \n",
              "  <style>\n",
              "    .colab-df-container {\n",
              "      display:flex;\n",
              "      flex-wrap:wrap;\n",
              "      gap: 12px;\n",
              "    }\n",
              "\n",
              "    .colab-df-convert {\n",
              "      background-color: #E8F0FE;\n",
              "      border: none;\n",
              "      border-radius: 50%;\n",
              "      cursor: pointer;\n",
              "      display: none;\n",
              "      fill: #1967D2;\n",
              "      height: 32px;\n",
              "      padding: 0 0 0 0;\n",
              "      width: 32px;\n",
              "    }\n",
              "\n",
              "    .colab-df-convert:hover {\n",
              "      background-color: #E2EBFA;\n",
              "      box-shadow: 0px 1px 2px rgba(60, 64, 67, 0.3), 0px 1px 3px 1px rgba(60, 64, 67, 0.15);\n",
              "      fill: #174EA6;\n",
              "    }\n",
              "\n",
              "    [theme=dark] .colab-df-convert {\n",
              "      background-color: #3B4455;\n",
              "      fill: #D2E3FC;\n",
              "    }\n",
              "\n",
              "    [theme=dark] .colab-df-convert:hover {\n",
              "      background-color: #434B5C;\n",
              "      box-shadow: 0px 1px 3px 1px rgba(0, 0, 0, 0.15);\n",
              "      filter: drop-shadow(0px 1px 2px rgba(0, 0, 0, 0.3));\n",
              "      fill: #FFFFFF;\n",
              "    }\n",
              "  </style>\n",
              "\n",
              "      <script>\n",
              "        const buttonEl =\n",
              "          document.querySelector('#df-9c0aa70e-3e49-4a60-bbbf-fb40efbdabef button.colab-df-convert');\n",
              "        buttonEl.style.display =\n",
              "          google.colab.kernel.accessAllowed ? 'block' : 'none';\n",
              "\n",
              "        async function convertToInteractive(key) {\n",
              "          const element = document.querySelector('#df-9c0aa70e-3e49-4a60-bbbf-fb40efbdabef');\n",
              "          const dataTable =\n",
              "            await google.colab.kernel.invokeFunction('convertToInteractive',\n",
              "                                                     [key], {});\n",
              "          if (!dataTable) return;\n",
              "\n",
              "          const docLinkHtml = 'Like what you see? Visit the ' +\n",
              "            '<a target=\"_blank\" href=https://colab.research.google.com/notebooks/data_table.ipynb>data table notebook</a>'\n",
              "            + ' to learn more about interactive tables.';\n",
              "          element.innerHTML = '';\n",
              "          dataTable['output_type'] = 'display_data';\n",
              "          await google.colab.output.renderOutput(dataTable, element);\n",
              "          const docLink = document.createElement('div');\n",
              "          docLink.innerHTML = docLinkHtml;\n",
              "          element.appendChild(docLink);\n",
              "        }\n",
              "      </script>\n",
              "    </div>\n",
              "  </div>\n",
              "  "
            ]
          },
          "metadata": {},
          "execution_count": 31
        }
      ]
    }
  ]
}